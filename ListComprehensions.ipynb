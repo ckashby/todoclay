{
  "nbformat": 4,
  "nbformat_minor": 0,
  "metadata": {
    "colab": {
      "provenance": [],
      "authorship_tag": "ABX9TyNuj545mUGt8Sbm2r268UZs",
      "include_colab_link": true
    },
    "kernelspec": {
      "name": "python3",
      "display_name": "Python 3"
    },
    "language_info": {
      "name": "python"
    }
  },
  "cells": [
    {
      "cell_type": "markdown",
      "metadata": {
        "id": "view-in-github",
        "colab_type": "text"
      },
      "source": [
        "<a href=\"https://colab.research.google.com/github/ckashby/todoclay/blob/master/ListComprehensions.ipynb\" target=\"_parent\"><img src=\"https://colab.research.google.com/assets/colab-badge.svg\" alt=\"Open In Colab\"/></a>"
      ]
    },
    {
      "cell_type": "code",
      "source": [
        "# for num in range(65,91):  # ASCII\n",
        "#   print(chr(num))\n",
        "[chr(num) for num in range(97, 123)]"
      ],
      "metadata": {
        "colab": {
          "base_uri": "https://localhost:8080/"
        },
        "id": "Wx8A8b7UsH6r",
        "outputId": "3424c73d-4841-4ed5-868b-521c654e1bb0"
      },
      "execution_count": 2,
      "outputs": [
        {
          "output_type": "execute_result",
          "data": {
            "text/plain": [
              "['a',\n",
              " 'b',\n",
              " 'c',\n",
              " 'd',\n",
              " 'e',\n",
              " 'f',\n",
              " 'g',\n",
              " 'h',\n",
              " 'i',\n",
              " 'j',\n",
              " 'k',\n",
              " 'l',\n",
              " 'm',\n",
              " 'n',\n",
              " 'o',\n",
              " 'p',\n",
              " 'q',\n",
              " 'r',\n",
              " 's',\n",
              " 't',\n",
              " 'u',\n",
              " 'v',\n",
              " 'w',\n",
              " 'x',\n",
              " 'y',\n",
              " 'z']"
            ]
          },
          "metadata": {},
          "execution_count": 2
        }
      ]
    },
    {
      "cell_type": "code",
      "source": [
        "# Doubled odds\n",
        "numbers = [3, 4, 5, 6, 7, 8]\n",
        "# doubled_odds = []\n",
        "# for num in numbers:\n",
        "#   if num % 2 != 0:\n",
        "#     doubled_odds.append(num ** 2)\n",
        "\n",
        "# print(doubled_odds)\n",
        "[num ** 2 for num in numbers if num % 2 == 1]"
      ],
      "metadata": {
        "colab": {
          "base_uri": "https://localhost:8080/"
        },
        "id": "iD3cRaX7sHo-",
        "outputId": "5bf9111d-fe2b-445c-e16e-5ffda913ab4e"
      },
      "execution_count": 8,
      "outputs": [
        {
          "output_type": "execute_result",
          "data": {
            "text/plain": [
              "[9, 25, 49]"
            ]
          },
          "metadata": {},
          "execution_count": 8
        }
      ]
    },
    {
      "cell_type": "code",
      "source": [],
      "metadata": {
        "id": "jjWbrAZ_sGzp"
      },
      "execution_count": null,
      "outputs": []
    },
    {
      "cell_type": "code",
      "execution_count": 34,
      "metadata": {
        "colab": {
          "base_uri": "https://localhost:8080/"
        },
        "id": "75uAvKuaFNVM",
        "outputId": "629f4d9b-d16a-41e2-ac10-6107a868303f"
      },
      "outputs": [
        {
          "output_type": "execute_result",
          "data": {
            "text/plain": [
              "[{'buyer': 'Kathy Santos', 'price': 1456.85, 'market': 'USA'},\n",
              " {'buyer': 'David Watkins', 'price': 650.88, 'market': 'USA'},\n",
              " {'buyer': 'Jessica Garcia', 'price': 1323.96, 'market': 'USA'},\n",
              " {'buyer': 'Charles Cooper', 'price': 1278.88, 'market': 'USA'},\n",
              " {'buyer': 'Donald Rasmussen', 'price': 167.49, 'market': 'USA'}]"
            ]
          },
          "metadata": {},
          "execution_count": 34
        }
      ],
      "source": [
        "orders = [\n",
        "    {'buyer': 'Steven Wilson', 'price': 1330.35, 'market': 'ASIA'},\n",
        "    {'buyer': 'Kathy Santos', 'price': 1456.85, 'market': 'USA'},\n",
        "    {'buyer': 'David Watkins', 'price': 650.88, 'market': 'USA'},\n",
        "    {'buyer': 'Jennifer Williams', 'price': 1080.62, 'market': 'EU'},\n",
        "    {'buyer': 'Jessica Garcia', 'price': 1323.96, 'market': 'USA'},\n",
        "    {'buyer': 'Justin Garrett', 'price': 322.82, 'market': 'ASIA'},\n",
        "    {'buyer': 'Jennifer Huerta', 'price': 1337.36, 'market': 'EU'},\n",
        "    {'buyer': 'Mathew Reed', 'price': 273.74, 'market': 'ASIA'},\n",
        "    {'buyer': 'Jerry Martinez', 'price': 336.67, 'market': 'EU'},\n",
        "    {'buyer': 'Charles Cooper', 'price': 1278.88, 'market': 'USA'},\n",
        "    {'buyer': 'Melissa Deleon', 'price': 1757.61, 'market': 'EU'},\n",
        "    {'buyer': 'Mary Jones', 'price': 1703.29, 'market': 'EU'},\n",
        "    {'buyer': 'David Ramos', 'price': 916.17, 'market': 'ASIA'},\n",
        "    {'buyer': 'Evelyn Bell', 'price': 1683.11, 'market': 'ASIA'},\n",
        "    {'buyer': 'Donald Rasmussen', 'price': 167.49, 'market': 'USA'}\n",
        "]\n",
        "\n",
        "result = []\n",
        "\n",
        "# for order in orders:\n",
        "#   if order['market']== 'ASIA':\n",
        "#     result.append(order)\n",
        "# print(result)\n",
        "\n",
        "[order for order in orders if order['market'] == 'USA']\n",
        "\n"
      ]
    },
    {
      "cell_type": "code",
      "source": [],
      "metadata": {
        "id": "BmYCtOXKFWfo"
      },
      "execution_count": null,
      "outputs": []
    }
  ]
}