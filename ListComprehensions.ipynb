{
  "nbformat": 4,
  "nbformat_minor": 0,
  "metadata": {
    "colab": {
      "provenance": [],
      "authorship_tag": "ABX9TyMpxBq2B39e/iVKhSCZsM6i",
      "include_colab_link": true
    },
    "kernelspec": {
      "name": "python3",
      "display_name": "Python 3"
    },
    "language_info": {
      "name": "python"
    }
  },
  "cells": [
    {
      "cell_type": "markdown",
      "metadata": {
        "id": "view-in-github",
        "colab_type": "text"
      },
      "source": [
        "<a href=\"https://colab.research.google.com/github/ckashby/todoclay/blob/master/ListComprehensions.ipynb\" target=\"_parent\"><img src=\"https://colab.research.google.com/assets/colab-badge.svg\" alt=\"Open In Colab\"/></a>"
      ]
    },
    {
      "cell_type": "code",
      "source": [
        "# for num in range(65,91):  # ASCII\n",
        "#   print(chr(num))\n",
        "[chr(num) for num in range(97, 123)]"
      ],
      "metadata": {
        "colab": {
          "base_uri": "https://localhost:8080/"
        },
        "id": "Wx8A8b7UsH6r",
        "outputId": "3424c73d-4841-4ed5-868b-521c654e1bb0"
      },
      "execution_count": 2,
      "outputs": [
        {
          "output_type": "execute_result",
          "data": {
            "text/plain": [
              "['a',\n",
              " 'b',\n",
              " 'c',\n",
              " 'd',\n",
              " 'e',\n",
              " 'f',\n",
              " 'g',\n",
              " 'h',\n",
              " 'i',\n",
              " 'j',\n",
              " 'k',\n",
              " 'l',\n",
              " 'm',\n",
              " 'n',\n",
              " 'o',\n",
              " 'p',\n",
              " 'q',\n",
              " 'r',\n",
              " 's',\n",
              " 't',\n",
              " 'u',\n",
              " 'v',\n",
              " 'w',\n",
              " 'x',\n",
              " 'y',\n",
              " 'z']"
            ]
          },
          "metadata": {},
          "execution_count": 2
        }
      ]
    },
    {
      "cell_type": "code",
      "source": [
        "# Doubled odds\n",
        "numbers = [3, 4, 5, 6, 7, 8]\n",
        "# doubled_odds = []\n",
        "# for num in numbers:\n",
        "#   if num % 2 != 0:\n",
        "#     doubled_odds.append(num ** 2)\n",
        "\n",
        "# print(doubled_odds)\n",
        "[num * 2 for num in numbers if num % 2 == 1]"
      ],
      "metadata": {
        "colab": {
          "base_uri": "https://localhost:8080/"
        },
        "id": "iD3cRaX7sHo-",
        "outputId": "2a1fa515-ebba-4c24-b90f-3c7ecc245bdd"
      },
      "execution_count": 9,
      "outputs": [
        {
          "output_type": "execute_result",
          "data": {
            "text/plain": [
              "[6, 10, 14]"
            ]
          },
          "metadata": {},
          "execution_count": 9
        }
      ]
    },
    {
      "cell_type": "code",
      "source": [
        "my_matrix = [[1,2,3],\n",
        " [4,5,6],\n",
        "  [7,8,9]]\n",
        "\n",
        "# flattened = []\n",
        "# for row in my_matrix:\n",
        "#     for n in row:\n",
        "#         flattened.append(n)\n",
        "\n",
        "# print(flattened)\n",
        "[n for row in my_matrix for n in row]"
      ],
      "metadata": {
        "colab": {
          "base_uri": "https://localhost:8080/"
        },
        "id": "jjWbrAZ_sGzp",
        "outputId": "1867d2de-7a3f-4487-9b00-e232bb842e0b"
      },
      "execution_count": 12,
      "outputs": [
        {
          "output_type": "execute_result",
          "data": {
            "text/plain": [
              "[1, 2, 3, 4, 5, 6, 7, 8, 9]"
            ]
          },
          "metadata": {},
          "execution_count": 12
        }
      ]
    },
    {
      "cell_type": "code",
      "source": [
        "words = ['one', 'two', 'three', 'four']\n",
        "set([w[0] for w in words])"
      ],
      "metadata": {
        "colab": {
          "base_uri": "https://localhost:8080/"
        },
        "id": "2j29RtI3V2lR",
        "outputId": "05645cca-5fef-4707-e77e-a52729e2fd96"
      },
      "execution_count": 15,
      "outputs": [
        {
          "output_type": "execute_result",
          "data": {
            "text/plain": [
              "{'f', 'o', 't'}"
            ]
          },
          "metadata": {},
          "execution_count": 15
        }
      ]
    },
    {
      "cell_type": "code",
      "source": [
        "from tempfile import template\n",
        "tel = {'sape': 4139, 'jack': 4098}\n",
        "tel['guido'] = 2048\n",
        "print(tel)\n",
        "del tel['guido']\n",
        "tel\n",
        "'guido' in tel\n",
        "'jack' in tel\n",
        "list(tel)\n",
        "sorted(tel)"
      ],
      "metadata": {
        "colab": {
          "base_uri": "https://localhost:8080/"
        },
        "id": "dB19secVW0eR",
        "outputId": "0ecfc74e-edc5-41c8-bdbe-dad19395bd69"
      },
      "execution_count": 27,
      "outputs": [
        {
          "output_type": "stream",
          "name": "stdout",
          "text": [
            "{'sape': 4139, 'jack': 4098, 'guido': 2048}\n"
          ]
        },
        {
          "output_type": "execute_result",
          "data": {
            "text/plain": [
              "['jack', 'sape']"
            ]
          },
          "metadata": {},
          "execution_count": 27
        }
      ]
    },
    {
      "cell_type": "code",
      "source": [
        "# Dict Constructor\n",
        "dict_names = dict([('Leilani', 4432),('Noelani', 4139), ('Kekoa', 4127), ('Kapono', 4098)])\n",
        "list(dict_names)\n",
        "sorted(dict_names)"
      ],
      "metadata": {
        "colab": {
          "base_uri": "https://localhost:8080/"
        },
        "id": "kdvdENwzYKO_",
        "outputId": "a2a33147-1bb0-4949-d2e5-02d29c4156c8"
      },
      "execution_count": 30,
      "outputs": [
        {
          "output_type": "execute_result",
          "data": {
            "text/plain": [
              "['Kapono', 'Kekoa', 'Leilani', 'Noelani']"
            ]
          },
          "metadata": {},
          "execution_count": 30
        }
      ]
    },
    {
      "cell_type": "code",
      "source": [
        "# Dict Comprehensions\n",
        "{x: x**2 for x in (2, 4, 6)}"
      ],
      "metadata": {
        "colab": {
          "base_uri": "https://localhost:8080/"
        },
        "id": "ufeXQd0KYwBd",
        "outputId": "9fa39c46-ce17-4ece-f334-599f659cc9d2"
      },
      "execution_count": 31,
      "outputs": [
        {
          "output_type": "execute_result",
          "data": {
            "text/plain": [
              "{2: 4, 4: 16, 6: 36}"
            ]
          },
          "metadata": {},
          "execution_count": 31
        }
      ]
    },
    {
      "cell_type": "code",
      "source": [
        "# When looping through a sequence, the position index and corresponding value\n",
        "# can be retrieved at the same time using the enumerate() function.\n",
        "for i, v in enumerate(['one', 'two', 'three']):\n",
        "  print(i, v)"
      ],
      "metadata": {
        "colab": {
          "base_uri": "https://localhost:8080/"
        },
        "id": "uDTk7zgHZEHc",
        "outputId": "a1213b40-c268-4a9f-db65-fed537aebb85"
      },
      "execution_count": 35,
      "outputs": [
        {
          "output_type": "stream",
          "name": "stdout",
          "text": [
            "0 one\n",
            "1 two\n",
            "2 three\n"
          ]
        }
      ]
    },
    {
      "cell_type": "code",
      "source": [
        "# To loop over two or more sequences at the same time,\n",
        "# the entries can be paired with the zip() function.\n",
        "questions = ['name', 'quest', 'favorite color']\n",
        "answers = ['Lancelot', 'Holy Grail', 'Green']\n",
        "for q, a in zip(questions, answers):\n",
        "  print(q, a)"
      ],
      "metadata": {
        "colab": {
          "base_uri": "https://localhost:8080/"
        },
        "id": "H25KtfhdaQ4O",
        "outputId": "39a7e343-ed6c-4dda-a2ff-d9fa25f7a748"
      },
      "execution_count": 36,
      "outputs": [
        {
          "output_type": "stream",
          "name": "stdout",
          "text": [
            "name Lancelot\n",
            "quest Holy Grail\n",
            "favorite color Green\n"
          ]
        }
      ]
    },
    {
      "cell_type": "code",
      "execution_count": 34,
      "metadata": {
        "colab": {
          "base_uri": "https://localhost:8080/"
        },
        "id": "75uAvKuaFNVM",
        "outputId": "629f4d9b-d16a-41e2-ac10-6107a868303f"
      },
      "outputs": [
        {
          "output_type": "execute_result",
          "data": {
            "text/plain": [
              "[{'buyer': 'Kathy Santos', 'price': 1456.85, 'market': 'USA'},\n",
              " {'buyer': 'David Watkins', 'price': 650.88, 'market': 'USA'},\n",
              " {'buyer': 'Jessica Garcia', 'price': 1323.96, 'market': 'USA'},\n",
              " {'buyer': 'Charles Cooper', 'price': 1278.88, 'market': 'USA'},\n",
              " {'buyer': 'Donald Rasmussen', 'price': 167.49, 'market': 'USA'}]"
            ]
          },
          "metadata": {},
          "execution_count": 34
        }
      ],
      "source": [
        "orders = [\n",
        "    {'buyer': 'Steven Wilson', 'price': 1330.35, 'market': 'ASIA'},\n",
        "    {'buyer': 'Kathy Santos', 'price': 1456.85, 'market': 'USA'},\n",
        "    {'buyer': 'David Watkins', 'price': 650.88, 'market': 'USA'},\n",
        "    {'buyer': 'Jennifer Williams', 'price': 1080.62, 'market': 'EU'},\n",
        "    {'buyer': 'Jessica Garcia', 'price': 1323.96, 'market': 'USA'},\n",
        "    {'buyer': 'Justin Garrett', 'price': 322.82, 'market': 'ASIA'},\n",
        "    {'buyer': 'Jennifer Huerta', 'price': 1337.36, 'market': 'EU'},\n",
        "    {'buyer': 'Mathew Reed', 'price': 273.74, 'market': 'ASIA'},\n",
        "    {'buyer': 'Jerry Martinez', 'price': 336.67, 'market': 'EU'},\n",
        "    {'buyer': 'Charles Cooper', 'price': 1278.88, 'market': 'USA'},\n",
        "    {'buyer': 'Melissa Deleon', 'price': 1757.61, 'market': 'EU'},\n",
        "    {'buyer': 'Mary Jones', 'price': 1703.29, 'market': 'EU'},\n",
        "    {'buyer': 'David Ramos', 'price': 916.17, 'market': 'ASIA'},\n",
        "    {'buyer': 'Evelyn Bell', 'price': 1683.11, 'market': 'ASIA'},\n",
        "    {'buyer': 'Donald Rasmussen', 'price': 167.49, 'market': 'USA'}\n",
        "]\n",
        "\n",
        "result = []\n",
        "\n",
        "# for order in orders:\n",
        "#   if order['market']== 'ASIA':\n",
        "#     result.append(order)\n",
        "# print(result)\n",
        "\n",
        "[order for order in orders if order['market'] == 'USA']\n",
        "\n"
      ]
    },
    {
      "cell_type": "code",
      "source": [],
      "metadata": {
        "id": "BmYCtOXKFWfo"
      },
      "execution_count": null,
      "outputs": []
    }
  ]
}